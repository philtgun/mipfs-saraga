{
  "cells": [
    {
      "cell_type": "markdown",
      "source": "# Melody phrase similarity in Carnatic and Hindustani music\n\nThis task is about identifying the similar melodic phrases in Carnatic and Hindustiani music. Melodic phrases are very \ncharacteristic for the Ragas of those traditions, thus even the same melodic phrases (e.g. La-Do-Sol in western \nnotation) will be intonated and sang differently. The main goal is for the computed similarity using MIR methods to be \nrepresentative of the domain knowledge coming from the musicological perspective\n\nThe dataset that we will be using for this task is the [Saraga dataset](https://zenodo.org/record/1256127) that is \navailable in [Dunya](https://dunya.compmusic.upf.edu/) - the platform for exploration the music from different cultures \nthat is one of results from the [CompMusic](https://compmusic.upf.edu/) project.\n\n## 1. Dowloading the data\nAt ISMIR2018 there was a tutorial about MIR for music from non-western traditions, and there is very handy \n[notebook](https://github.com/MTG/Ismir2018TutorialNotebooks/blob/master/notebooks/downloadAllSARAGAContent.ipynb) that\nallows to download the audio and annotations for Saraga dataset from Dunya. We also provide already downloaded data \n[here](#). Put the data into `data` folder in the root of this repository.\n\n## 2. Looking at the data\nThis code segment is based on another \n[notebook](https://github.com/MTG/Ismir2018TutorialNotebooks/blob/master/notebooks/visualizeAnnotations.ipynb) \nfrom ISMIR2018 tutorial that allows you to visualize all annotations, but we are only interested in melodic segments",
      "metadata": {
        "pycharm": {
          "metadata": false
        }
      }
    },
    {
      "cell_type": "code",
      "execution_count": null,
      "outputs": [],
      "source": "",
      "metadata": {
        "pycharm": {
          "metadata": false,
          "name": "#%% \n"
        }
      }
    }
  ],
  "metadata": {
    "language_info": {
      "codemirror_mode": {
        "name": "ipython",
        "version": 2
      },
      "file_extension": ".py",
      "mimetype": "text/x-python",
      "name": "python",
      "nbconvert_exporter": "python",
      "pygments_lexer": "ipython2",
      "version": "2.7.6"
    },
    "kernelspec": {
      "name": "pycharm-e134ba45",
      "language": "python",
      "display_name": "PyCharm (mipfs-sumschool)"
    },
    "stem_cell": {
      "cell_type": "raw",
      "source": "",
      "metadata": {
        "pycharm": {
          "metadata": false
        }
      }
    }
  },
  "nbformat": 4,
  "nbformat_minor": 0
}